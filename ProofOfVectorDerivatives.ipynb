{
 "cells": [
  {
   "cell_type": "markdown",
   "metadata": {},
   "source": [
    "# Proof of vector derivatives\n",
    "## (1) $\\frac{\\delta\\vec{b}^TX^T\\vec{y}}{\\delta\\vec{b}} = X^Ty$  \n",
    "We can first simplify things and set $X^T\\vec{y} = \\vec{z}$. Note, we can easily do this because X and $\\vec{y}$ are just constant matrix and vector, respectively, in the context of taking the partial derivative with respect to $\\vec{b}$.\n",
    "\n",
    "$$\\vec{b}^TX^T\\vec{y} = \\vec{b}^T\\vec{z}$$  \n",
    "\n",
    "Definition of derivatvie \n",
    "We can then breakout the vector dot product and express it as:\n",
    "\n",
    "$$\\vec{b}^T\\vec{z} = \\sum_{i=1}^nb_i*z_i$$ s.t $\\vec{z}$ and $\\vec{b}$ are both 'n' dimensional vectors and each $z_i = x_i^T\\vec{y}$ where $x_i$ is row vector i.  \n",
    "\n",
    "$$$$"
   ]
  },
  {
   "cell_type": "markdown",
   "metadata": {},
   "source": [
    "Resources I found useful:\n",
    "- https://www.youtube.com/watch?v=fb1CNQT-3Pg (Seems like he has a good Youtube channel full of good stuff)\n",
    "- https://atmos.washington.edu/~dennis/MatrixCalculus.pdf (especially section 5: Matrix Differentiation and Convention 3 section. Helps with (3) as that function is a vector function with a vector input)\n",
    "- https://onlinelibrary.wiley.com/doi/pdf/10.1002/9780470173862.app4 (especially Definition D.1. as (1) and (2) are scalar functions that have vector inputs. They are scalar functions because the values of each of the functions is just a scalar)\n",
    "- https://www.youtube.com/watch?v=iWxY7VdcSH8\n",
    "- https://onlinelibrary.wiley.com/doi/pdf/10.1002/0471705195.app3 ()\n",
    "- https://www.khanacademy.org/math/multivariable-calculus/multivariable-derivatives/differentiating-vector-valued-functions/a/derivatives-of-vector-valued-functions"
   ]
  },
  {
   "cell_type": "code",
   "execution_count": null,
   "metadata": {},
   "outputs": [],
   "source": []
  }
 ],
 "metadata": {
  "kernelspec": {
   "display_name": "Python (blogPosts)",
   "language": "python",
   "name": "blogposts"
  },
  "language_info": {
   "codemirror_mode": {
    "name": "ipython",
    "version": 3
   },
   "file_extension": ".py",
   "mimetype": "text/x-python",
   "name": "python",
   "nbconvert_exporter": "python",
   "pygments_lexer": "ipython3",
   "version": "3.6.0"
  }
 },
 "nbformat": 4,
 "nbformat_minor": 2
}
