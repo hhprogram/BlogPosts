{
 "cells": [
  {
   "cell_type": "markdown",
   "metadata": {},
   "source": [
    "# This document is just to quickly show why summations are linear\n",
    "\n",
    "There are numerous conditions that one can check to see if a function is linear. From some research online these are a few:\n",
    "\n",
    "(1) If there exists only one real or complex solution of 𝑓(𝑥)+𝑎f(x)+a for all real 𝑎a.\n",
    "(2) If 𝑓(𝑎+𝑏)=𝑓(𝑎)+𝑓(𝑏)f(a+b)=f(a)+f(b) for all real 𝑎,𝑏a,b, and if 𝑐𝑓(𝑥)=𝑓(𝑐𝑥)cf(x)=f(cx) for all real 𝑐c.\n",
    "(3) If the second derivative is 00.\n",
    "(4) If the first derivative is constant.\n",
    "(5) If there exist real numbers 𝑎,𝑏a,b such that 𝑓(𝑥)−(𝑎𝑥+𝑏)=0f(x)−(ax+b)=0 for all 𝑥x.\n",
    "\n",
    "I'm most familiar with (2) and will use this method. (Caveat: I think this covers the general case of summations if not I will need to revise, but I think this is a at least a good toy example that gets us on our way)\n",
    "\n",
    "If we take any summation $$f(x) = \\sum_{i=0}^{n} x_{i}$$ where $x_i$ could be any aribitrary expression. Thus we need to show 2 things:\n",
    "\n",
    "(1) $ f(x + y) = f(x) + f(y)$\n",
    "(2) $ f(ax) = af(x)$\n",
    "\n",
    "(1) $ f(x + y) = \\sum_{i=0}^{n} (x + y)_{i} = \\sum_{i=0}^{n} x_{i} + y_{i}$ (TODO: Interesting tidbit here, since we are seperating the term (x+y) here already, this might already be implying we're assuming that addition is linear and thus summation is just a bunch of additions which then should also be linear. Wonder if that's just enough?)\n",
    "\n",
    "$ \\sum_{i=0}^{n} x_{i} + y_{i} = (x_{0}) + y_{0}) + ... + (x_{n}) + y_{n}) = (x_{0} + ... + x_{n}) + (y_{0} + ... + y_{n})$  Just rearranging terms in the last step.\n",
    "\n",
    "$(x_{0} + ... + x_{n}) + (y_{0} + ... + y_{n}) = \\sum_{i=0}^{n} x_i + \\sum_{i=0}^{n} y_i$ Thus the first condition is shown.\n",
    "\n",
    "(2) $f(ax) = a(fx)$\n",
    "\n",
    "$f(ax) = \\sum_{i=0}^{n} (ax)_{i} = ax_0 + ... + ax_n = a(x_0 + ... + x_n)$ just expanding and factoring out the constant\n",
    "\n",
    "$a(x_0 + ... + x_n) = a \\sum_{i=0}^{n} x_i = af(x)$. Thus both linearity conditions are met and thus summations are linear."
   ]
  },
  {
   "cell_type": "code",
   "execution_count": 1,
   "metadata": {},
   "outputs": [
    {
     "ename": "SyntaxError",
     "evalue": "invalid syntax (<ipython-input-1-fec2cc108c61>, line 1)",
     "output_type": "error",
     "traceback": [
      "\u001b[0;36m  File \u001b[0;32m\"<ipython-input-1-fec2cc108c61>\"\u001b[0;36m, line \u001b[0;32m1\u001b[0m\n\u001b[0;31m    References:\u001b[0m\n\u001b[0m               ^\u001b[0m\n\u001b[0;31mSyntaxError\u001b[0m\u001b[0;31m:\u001b[0m invalid syntax\n"
     ]
    }
   ],
   "source": [
    "References:\n",
    "    - https://www.quora.com/How-do-you-prove-that-a-function-is-linear-in-math"
   ]
  },
  {
   "cell_type": "code",
   "execution_count": null,
   "metadata": {},
   "outputs": [],
   "source": []
  }
 ],
 "metadata": {
  "kernelspec": {
   "display_name": "Python (blogPosts)",
   "language": "python",
   "name": "blogposts"
  },
  "language_info": {
   "codemirror_mode": {
    "name": "ipython",
    "version": 3
   },
   "file_extension": ".py",
   "mimetype": "text/x-python",
   "name": "python",
   "nbconvert_exporter": "python",
   "pygments_lexer": "ipython3",
   "version": "3.7.3"
  }
 },
 "nbformat": 4,
 "nbformat_minor": 2
}
