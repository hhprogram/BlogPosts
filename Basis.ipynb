{
 "cells": [
  {
   "cell_type": "markdown",
   "metadata": {},
   "source": [
    "## Explanation of a Basis\n",
    "Technically you can describe a basis that satisifies the following:  \n",
    "(1) A set of vectors that spans some vector space$^1$ V    \n",
    "(2) Are linearly independent of each other or in other words the only solution to the below is if $a_1 = a_2 ... = a_n = 0$\n",
    "\n",
    "$$0 = a_1v_1 + ... + a_nv_n$$\n",
    "\n",
    "(therefore, if you look at the linked reference of what is a vector space, the basis is that set of vectors V except a special subset of this that is also linearly independent of each other)  \n",
    "My intuitive explanation of what a basis is that it is the minimal required set of vectors that can be used to represent any element within that specific vector space V. Basically, the most basic fundamental ingredients required to 'build' anything in the associated vector space V. Some examples:  \n",
    "\n",
    "Example) Vector space of $R^3$ i.e the three dimensional space of real numbers. Therefore, the vector elements in this space would be somethin like \n",
    "$\\begin{bmatrix} \n",
    "    x_1 \\\\\n",
    "    x_2 \\\\\n",
    "    x_3\n",
    " \\end{bmatrix}\n",
    "$\n",
    "s.t. any $x_i \\in R$\n",
    "\n",
    "Thus, any basis of $R^3$ is a set of 3 vectors - call them $b_1$, $b_2$ and $b_3$ (and only 3 because any set of 3 dimensional vectors won't be able to span $R^3$ and then any set of vectors that has more than 3 won't be linearly independent) which $\\exists$ some tuple of scalars $a_1$, $a_2$, and $a_3$ for any $v_i \\in R^3$ s.t. $v_i = a_1b_1 + a_2b_2 + a_3b_3$\n",
    "\n",
    "A concrete example of a basis for $R^3$ is this subset of vectors:  \n",
    "$$\\begin{bmatrix} \n",
    "    1 \\\\\n",
    "    0 \\\\\n",
    "    0\n",
    " \\end{bmatrix}, \\begin{bmatrix} \n",
    "    0 \\\\\n",
    "    1 \\\\\n",
    "    0\n",
    " \\end{bmatrix}, \\begin{bmatrix} \n",
    "    0 \\\\\n",
    "    0 \\\\\n",
    "    1\n",
    " \\end{bmatrix}$$  \n",
    " \n",
    "Example) Vector space of polynomials up to degree 3. This would be the space of all possible polynomial equations up to degree 3 and each vector would be a particular polynomial. For example, you could think of representing the space as a general equation of the form:  \n",
    "\n",
    "$$y = a_0x_0 + a_1x + a_2x^2 + a_3x^3$$  \n",
    "*note: x_0 is just a constant term*  \n",
    "And an element in th is space could look like this: $y = 2 + x + 4x^2 - x^3$ or $y = 2 + x - 3x^3$ etc.. The simplest subset of vectors in this vector space that form a basis is the following:  \n",
    "\n",
    "$$\\begin{bmatrix} \n",
    "    1 \n",
    " \\end{bmatrix}, \\begin{bmatrix} \n",
    "    x\n",
    " \\end{bmatrix}, \\begin{bmatrix} \n",
    "    x^2\n",
    " \\end{bmatrix}, \\begin{bmatrix} \n",
    "    x^3\n",
    " \\end{bmatrix}  $$  \n",
    " *Note: each individual vector doesn't have to a be monomial, but that's just the simplest. A valid basis for this vector space just needs to be a set vectors that spans and are linearly independent*"
   ]
  },
  {
   "cell_type": "markdown",
   "metadata": {},
   "source": [
    "Resources:\n",
    "(1) http://www.math.toronto.edu/gscott/WhatVS.pdf"
   ]
  },
  {
   "cell_type": "code",
   "execution_count": null,
   "metadata": {},
   "outputs": [],
   "source": []
  }
 ],
 "metadata": {
  "kernelspec": {
   "display_name": "Python (blogPosts)",
   "language": "python",
   "name": "blogposts"
  },
  "language_info": {
   "codemirror_mode": {
    "name": "ipython",
    "version": 3
   },
   "file_extension": ".py",
   "mimetype": "text/x-python",
   "name": "python",
   "nbconvert_exporter": "python",
   "pygments_lexer": "ipython3",
   "version": "3.6.0"
  }
 },
 "nbformat": 4,
 "nbformat_minor": 2
}
