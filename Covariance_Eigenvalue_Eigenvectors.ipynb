{
 "cells": [
  {
   "cell_type": "markdown",
   "metadata": {},
   "source": [
    "## This document will try to go into the details of the important and 'meaning' behind eigenvalues and eigenvectors, especially with respect to covariance matrices. The impetus behind this was trying to gain a deeper understanding of SVD and specifically: \n",
    "\n",
    "(1) why it was that the 'V' matrix in SVD was the eigenvectors of a matrix $X^TX$\n",
    "(2) why the U was eigenvectors of a matrix $XX^T$ given our original data matrix was X. \n",
    "(3) why the eigenvalues of both these matrices $X^TX$ and \n",
    "And also connecting how singular vectors of the matrix X coincide with being the eigenvectors of $X^TX$"
   ]
  },
  {
   "cell_type": "markdown",
   "metadata": {},
   "source": [
    "## Summary"
   ]
  },
  {
   "cell_type": "markdown",
   "metadata": {},
   "source": [
    "References:\n",
    "(1) http://www.visiondummy.com/2014/04/geometric-interpretation-covariance-matrix/ \n",
    "(2) http://www.cse.psu.edu/~rtc12/CSE586Spring2010/lectures/pcaLectureShort_6pp.pdf"
   ]
  }
 ],
 "metadata": {
  "kernelspec": {
   "display_name": "Python (blogPosts)",
   "language": "python",
   "name": "blogposts"
  },
  "language_info": {
   "codemirror_mode": {
    "name": "ipython",
    "version": 3
   },
   "file_extension": ".py",
   "mimetype": "text/x-python",
   "name": "python",
   "nbconvert_exporter": "python",
   "pygments_lexer": "ipython3",
   "version": "3.6.0"
  }
 },
 "nbformat": 4,
 "nbformat_minor": 2
}
